{
 "cells": [
  {
   "cell_type": "markdown",
   "metadata": {},
   "source": [
    "Preprocessing 단계에서는\n",
    "1. image/label 추출해서 \n",
    "2. image는 논문에서 언급한 parameter (224, 224, 3)으로 모두 resize해주고\n",
    "> 1. train_COVIDx.txt, test_COVIDx.txt는  samples used for training/testing. 그래서 어떻게 구성되어있는지 보고\n",
    ">> '번호/ data/train, data/test에 형성해놓은 데이터의 파일명/ 증상' 으로 구성\n",
    "> 2. data/train, data/test에 형성해놓은 데이터의 파일명을 뽑아서 'data/train(test)/파일명' 이 이미지 데이터에 접근할 수 있는 datapath로 만들기\n",
    "> 3. datapath로 image에 접근해서 resize, normalization\n",
    "3. label은 onehot encoding 해서 \n",
    "> '번호/ data/train, data/test에 형성해놓은 데이터의 파일명/ 증상' 으로 구성한 것에서 '증상'을 뽑음 \n",
    "4. 새로 x_train, y_train, x_test, y_test로 정장해 주는 것들을 해야 한다. \n",
    "> 2, 3의 결과를 각각에 맞게 저장"
   ]
  },
  {
   "cell_type": "code",
   "execution_count": 28,
   "metadata": {},
   "outputs": [],
   "source": [
    "import os \n",
    "import cv2\n",
    "\n",
    "import numpy as np\n",
    "\n",
    "import tensorflow as tf\n",
    "from PIL import Image\n",
    "\n",
    "import matplotlib.pyplot as plt\n",
    "%matplotlib inline"
   ]
  },
  {
   "cell_type": "markdown",
   "metadata": {},
   "source": []
  },
  {
   "cell_type": "code",
   "execution_count": 20,
   "metadata": {},
   "outputs": [],
   "source": [
    "#train_data_paths = \"/Users/jeonghyeonjeong/for github/GraceProject/GraceCOVID19/train_COVIDx.txt\"에 있는 데이터 가져오기\n",
    "#Set parameter here\n",
    "Input_size = (224, 224) #for resize\n",
    "disease_name = {'normal': 0, 'bacteria': 1, 'viral': 2, 'COVID-19': 3} #for onehot\n",
    "train_data_path = 'train_COVIDx.txt'\n",
    "test_data_path = 'test_COVIDx.txt'\n",
    "\n",
    "x_train = []\n",
    "y_train = []\n",
    "x_test = []\n",
    "y_test = []"
   ]
  },
  {
   "cell_type": "code",
   "execution_count": 21,
   "metadata": {},
   "outputs": [],
   "source": [
    "# load in the train and test files\n",
    "file = open(train_data_path, 'r') \n",
    "trainfiles = file.readlines() \n",
    "file = open(test_data_path, 'r')\n",
    "testfiles = file.readlines()"
   ]
  },
  {
   "cell_type": "code",
   "execution_count": 22,
   "metadata": {},
   "outputs": [
    {
     "name": "stdout",
     "output_type": "stream",
     "text": [
      "Total samples for train:  16546\n",
      "Total samples for test:  210\n"
     ]
    }
   ],
   "source": [
    "#데이터 별 개수 비교\n",
    "print('Total samples for train: ', len(trainfiles))\n",
    "print('Total samples for test: ', len(testfiles))"
   ]
  },
  {
   "cell_type": "code",
   "execution_count": 23,
   "metadata": {},
   "outputs": [
    {
     "data": {
      "text/plain": [
       "'31 streptococcus-pneumoniae-pneumonia-temporal-evolution-1-day3.jpg pneumonia\\n'"
      ]
     },
     "execution_count": 23,
     "metadata": {},
     "output_type": "execute_result"
    }
   ],
   "source": [
    "#데이터의 파일명과 label이 어떤 식으로 구성되어 있는지 보기 위해 출력\n",
    "testfiles[-1]"
   ]
  },
  {
   "cell_type": "code",
   "execution_count": 30,
   "metadata": {},
   "outputs": [
    {
     "ename": "KeyError",
     "evalue": "'pneumonia'",
     "output_type": "error",
     "traceback": [
      "\u001b[0;31m---------------------------------------------------------------------------\u001b[0m",
      "\u001b[0;31mKeyError\u001b[0m                                  Traceback (most recent call last)",
      "\u001b[0;32m<ipython-input-30-b177f9a2883c>\u001b[0m in \u001b[0;36m<module>\u001b[0;34m\u001b[0m\n\u001b[1;32m     13\u001b[0m     \u001b[0;31m#onehot encoding\u001b[0m\u001b[0;34m\u001b[0m\u001b[0;34m\u001b[0m\u001b[0;34m\u001b[0m\u001b[0m\n\u001b[1;32m     14\u001b[0m     \u001b[0mlabel\u001b[0m \u001b[0;34m=\u001b[0m \u001b[0msplitresult\u001b[0m\u001b[0;34m[\u001b[0m\u001b[0;34m-\u001b[0m\u001b[0;36m1\u001b[0m\u001b[0;34m]\u001b[0m\u001b[0;34m\u001b[0m\u001b[0;34m\u001b[0m\u001b[0m\n\u001b[0;32m---> 15\u001b[0;31m     \u001b[0mlabel_onehot\u001b[0m \u001b[0;34m=\u001b[0m \u001b[0mdisease_name\u001b[0m\u001b[0;34m[\u001b[0m\u001b[0mlabel\u001b[0m\u001b[0;34m]\u001b[0m\u001b[0;34m\u001b[0m\u001b[0;34m\u001b[0m\u001b[0m\n\u001b[0m\u001b[1;32m     16\u001b[0m \u001b[0;34m\u001b[0m\u001b[0m\n\u001b[1;32m     17\u001b[0m     \u001b[0;31m#넣어주기\u001b[0m\u001b[0;34m\u001b[0m\u001b[0;34m\u001b[0m\u001b[0;34m\u001b[0m\u001b[0m\n",
      "\u001b[0;31mKeyError\u001b[0m: 'pneumonia'"
     ]
    }
   ],
   "source": [
    "for i in range(len(trainfiles)):\n",
    "    splitresult = trainfiles[i].split()\n",
    "    filename = splitresult[1]\n",
    "    imagepath = os.path.join('data', 'train', filename) #glob 모듈의 glob 함수는 사용자가 제시한 조건에 맞는 파일명을 리스트 형식으로 반환한다. \n",
    "    \n",
    "    img = cv2.imread(imagepath)\n",
    "    \n",
    "    #resize\n",
    "    img = cv2.resize(img, Input_size)\n",
    "    #normalization\n",
    "    img = img.astype('float32')/255.0\n",
    "    \n",
    "    #onehot encoding\n",
    "    label = splitresult[-1]\n",
    "    label_onehot = disease_name[label]\n",
    "    \n",
    "    #넣어주기\n",
    "    x_train.append(img)\n",
    "    y_train.append(label_onehot)\n",
    "    \n",
    "#결과 출력\n",
    "print('Shape of test images: ', x_train[0].shape)"
   ]
  },
  {
   "cell_type": "code",
   "execution_count": null,
   "metadata": {},
   "outputs": [],
   "source": []
  }
 ],
 "metadata": {
  "kernelspec": {
   "display_name": "Python 3",
   "language": "python",
   "name": "python3"
  },
  "language_info": {
   "codemirror_mode": {
    "name": "ipython",
    "version": 3
   },
   "file_extension": ".py",
   "mimetype": "text/x-python",
   "name": "python",
   "nbconvert_exporter": "python",
   "pygments_lexer": "ipython3",
   "version": "3.7.6"
  }
 },
 "nbformat": 4,
 "nbformat_minor": 4
}

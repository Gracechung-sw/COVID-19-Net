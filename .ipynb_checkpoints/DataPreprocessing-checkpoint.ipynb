{
 "cells": [
  {
   "cell_type": "markdown",
   "metadata": {},
   "source": [
    "Preprocessing 단계에서는\n",
    "1. image/label 추출해서 \n",
    "2. image는 논문에서 언급한 parameter (224, 224, 3)으로 모두 resize해주고\n",
    "> 1. train_COVIDx.txt, test_COVIDx.txt는  samples used for training/testing. 그래서 어떻게 구성되어있는지 보고\n",
    ">> '번호/ data/train, data/test에 형성해놓은 데이터의 파일명/ 증상' 으로 구성\n",
    "> 2. data/train, data/test에 형성해놓은 데이터의 파일명을 뽑아서 'data/train(test)/파일명' 이 이미지 데이터에 접근할 수 있는 datapath로 만들기\n",
    "> 3. datapath로 image에 접근해서 resize, normalization\n",
    "3. label은 onehot encoding 해서 \n",
    "> '번호/ data/train, data/test에 형성해놓은 데이터의 파일명/ 증상' 으로 구성한 것에서 '증상'을 뽑음 \n",
    "4. 새로 x_train, y_train, x_test, y_test로 정장해 주는 것들을 해야 한다. \n",
    "> 2, 3의 결과를 각각에 맞게 저장"
   ]
  },
  {
   "cell_type": "code",
   "execution_count": 31,
   "metadata": {},
   "outputs": [],
   "source": [
    "import os \n",
    "import cv2\n",
    "\n",
    "import numpy as np\n",
    "\n",
    "import tensorflow as tf\n",
    "from PIL import Image\n",
    "\n",
    "import matplotlib.pyplot as plt\n",
    "%matplotlib inline"
   ]
  },
  {
   "cell_type": "code",
   "execution_count": 32,
   "metadata": {},
   "outputs": [],
   "source": [
    "#train_data_paths = \"/Users/jeonghyeonjeong/for github/GraceProject/GraceCOVID19/train_COVIDx.txt\"에 있는 데이터 가져오기\n",
    "#Set parameter here\n",
    "Input_size = (224, 224) #for resize\n",
    "disease_name = {'normal': 0, 'pneumonia': 1, 'COVID-19': 2}\n",
    "#disease_name = {'normal': 0, 'bacteria': 1, 'viral': 2, 'COVID-19': 3} #for onehot\n",
    "train_data_path = 'train_COVIDx.txt'\n",
    "test_data_path = 'test_COVIDx.txt'\n",
    "\n",
    "x_train = []\n",
    "y_train = []\n",
    "x_test = []\n",
    "y_test = []"
   ]
  },
  {
   "cell_type": "code",
   "execution_count": 33,
   "metadata": {},
   "outputs": [],
   "source": [
    "# load in the train and test files\n",
    "file = open(train_data_path, 'r') \n",
    "trainfiles = file.readlines() \n",
    "file = open(test_data_path, 'r')\n",
    "testfiles = file.readlines()"
   ]
  },
  {
   "cell_type": "code",
   "execution_count": 34,
   "metadata": {},
   "outputs": [
    {
     "name": "stdout",
     "output_type": "stream",
     "text": [
      "Total samples for train:  16546\n",
      "Total samples for test:  210\n"
     ]
    }
   ],
   "source": [
    "#데이터 별 개수 비교\n",
    "print('Total samples for train: ', len(trainfiles))\n",
    "print('Total samples for test: ', len(testfiles))"
   ]
  },
  {
   "cell_type": "code",
   "execution_count": 35,
   "metadata": {},
   "outputs": [
    {
     "data": {
      "text/plain": [
       "'31 streptococcus-pneumoniae-pneumonia-temporal-evolution-1-day3.jpg pneumonia\\n'"
      ]
     },
     "execution_count": 35,
     "metadata": {},
     "output_type": "execute_result"
    }
   ],
   "source": [
    "#데이터의 파일명과 label이 어떤 식으로 구성되어 있는지 보기 위해 출력\n",
    "testfiles[-1]"
   ]
  },
  {
   "cell_type": "code",
   "execution_count": 36,
   "metadata": {},
   "outputs": [
    {
     "name": "stdout",
     "output_type": "stream",
     "text": [
      "Shape of test images:  (224, 224, 3)\n"
     ]
    }
   ],
   "source": [
    "for i in range(len(trainfiles)):\n",
    "    splitresult = trainfiles[i].split()\n",
    "    filename = splitresult[1]\n",
    "    imagepath = os.path.join('data', 'train', filename) #glob 모듈의 glob 함수는 사용자가 제시한 조건에 맞는 파일명을 리스트 형식으로 반환한다. \n",
    "    \n",
    "    img = cv2.imread(imagepath)\n",
    "    \n",
    "    #resize\n",
    "    img = cv2.resize(img, Input_size)\n",
    "    #normalization\n",
    "    img = img.astype('float32')/255.0\n",
    "    \n",
    "    #onehot encoding\n",
    "    label = splitresult[-1]\n",
    "    label_onehot = disease_name[label]\n",
    "    \n",
    "    #넣어주기\n",
    "    x_train.append(img)\n",
    "    y_train.append(label_onehot)\n",
    "    \n",
    "#결과 출력\n",
    "print('Shape of test images: ', x_train[0].shape)"
   ]
  },
  {
   "cell_type": "code",
   "execution_count": 37,
   "metadata": {},
   "outputs": [
    {
     "name": "stdout",
     "output_type": "stream",
     "text": [
      "Shape of test images:  (224, 224, 3)\n"
     ]
    }
   ],
   "source": [
    "for i in range(len(testfiles)):\n",
    "    splitresult = testfiles[i].split()\n",
    "    filename = splitresult[1]\n",
    "    imagepath = os.path.join('data', 'test', filename) #glob 모듈의 glob 함수는 사용자가 제시한 조건에 맞는 파일명을 리스트 형식으로 반환한다. \n",
    "    \n",
    "    img = cv2.imread(imagepath)\n",
    "    \n",
    "    #resize\n",
    "    img = cv2.resize(img, Input_size)\n",
    "    #normalization\n",
    "    img = img.astype('float32')/255.0\n",
    "    \n",
    "    #onehot encoding\n",
    "    label = splitresult[-1]\n",
    "    label_onehot = disease_name[label]\n",
    "    \n",
    "    #넣어주기\n",
    "    x_test.append(img)\n",
    "    y_test.append(label_onehot)\n",
    "    \n",
    "#결과 출력\n",
    "print('Shape of test images: ', x_test[0].shape)"
   ]
  },
  {
   "cell_type": "code",
   "execution_count": 38,
   "metadata": {},
   "outputs": [],
   "source": [
    "# export to npy to load in for training\n",
    "np.save('data/x_train.npy', x_train)\n",
    "np.save('data/y_train.npy', y_train)\n",
    "np.save('data/x_test.npy', x_test)\n",
    "np.save('data/y_test.npy', y_test)\n",
    "\n"
   ]
  },
  {
   "cell_type": "code",
   "execution_count": null,
   "metadata": {},
   "outputs": [],
   "source": []
  }
 ],
 "metadata": {
  "kernelspec": {
   "display_name": "Python 3",
   "language": "python",
   "name": "python3"
  },
  "language_info": {
   "codemirror_mode": {
    "name": "ipython",
    "version": 3
   },
   "file_extension": ".py",
   "mimetype": "text/x-python",
   "name": "python",
   "nbconvert_exporter": "python",
   "pygments_lexer": "ipython3",
   "version": "3.7.6"
  }
 },
 "nbformat": 4,
 "nbformat_minor": 4
}
